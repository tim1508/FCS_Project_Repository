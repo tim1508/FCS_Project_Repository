{
 "cells": [
  {
   "cell_type": "markdown",
   "metadata": {
    "id": "TSfQb_3w9CP3",
    "tags": []
   },
   "source": [
    "# Assignment 4: Programming III\n",
    "\n",
    "Please read the tasks description carefully and implement **only** what the tasks wants you to implement. Follow the instructions from the task description. There might be tasks that require you to write things you would do differently **but** you have to stay with the description. The test cases below each input cell is the gold standard. For this assignment, you do not need any error handling, you can assume that all input to your function will be valid.\n",
    "\n",
    "In this or any other assignment, using `print` is encouraged to test your implementation but is is **never** required to use it. If your function has to **return** something, use the `return` statement. A `print` is **not** a `return`.\n",
    "\n",
    "Try to implement the tasks yourself or in a small team. If you blindly copy a solution from the internet or other students, you will not learn anything from it. Understand the solution! This takes practice.\n",
    "\n",
    "_Hint: If the test case succeeds, delete your solution and redo it the next day._\n",
    "\n",
    "Do not modify the _test cells_, by doing so you cheat your solution which is not helpful for your learning process.\n",
    "\n",
    "<p style=\"background:rgba(250, 100, 100, 0.4)\">This assignment requires <strong>self-study</strong> and further research beyond the lecture content.</p>\n",
    "\n",
    "Use your favorite search engine to look up documentation, usage examples, and definitions of the mentioned functions.\n",
    "\n",
    "<blockquote style=\"font-size:1.25em;font-weight:bold\">We can only show you the door. You're the one that has to walk through it.</blockquote>"
   ]
  },
  {
   "cell_type": "markdown",
   "metadata": {},
   "source": [
    "---\n",
    "# Task 1: A Recursive Function\n",
    "\n",
    "Implement the function `recursive_sum(number)` that **recursively** generates the sum of all **even** integers between 2 and the given number.\n",
    "\n",
    "You can assume that `number` is always an even integer greater than or equal to `2`\n",
    "\n",
    "_Hint: Do *not* use the `range()` function but recursion._\n",
    "\n",
    "_Hint: Identify and check for the **stop condition** first. What is the sum of `number=2`?_\n",
    "\n",
    "_Hint: If you find yourself in an infinite loop, use the **Interrupt Kernel** button_ ⏹️ _and check your stop condition._ "
   ]
  },
  {
   "cell_type": "code",
   "execution_count": 6,
   "metadata": {},
   "outputs": [
    {
     "data": {
      "text/plain": [
       "6"
      ]
     },
     "execution_count": 6,
     "metadata": {},
     "output_type": "execute_result"
    }
   ],
   "source": [
    "# Add your code here\n",
    "\n",
    "def recursive_sum(number):\n",
    "    if number == 2:\n",
    "        return 2\n",
    "    else:\n",
    "        return number + recursive_sum(number - 2)\n",
    "    \n",
    "recursive_sum(4)"
   ]
  },
  {
   "cell_type": "code",
   "execution_count": 3,
   "metadata": {},
   "outputs": [
    {
     "name": "stdout",
     "output_type": "stream",
     "text": [
      "The output should be 12: 12\n"
     ]
    }
   ],
   "source": [
    "# Test your function yourself:\n",
    "print(\"The output should be 12:\", recursive_sum(6))"
   ]
  },
  {
   "cell_type": "code",
   "execution_count": 4,
   "metadata": {},
   "outputs": [
    {
     "name": "stdout",
     "output_type": "stream",
     "text": [
      "The output should be 30: 30\n"
     ]
    }
   ],
   "source": [
    "# Test your function yourself:\n",
    "print(\"The output should be 30:\", recursive_sum(10))"
   ]
  },
  {
   "cell_type": "code",
   "execution_count": 7,
   "metadata": {},
   "outputs": [
    {
     "name": "stdout",
     "output_type": "stream",
     "text": [
      "\u001b[34;2m Your function has the correct computation.  \u001b[0m\n",
      "\n",
      "\u001b[37;42;2m  Success! Your code works as intended.  \u001b[0m\n",
      "\n"
     ]
    }
   ],
   "source": [
    "# Very long Test Cell. Do not modify\n",
    "from inspect import isfunction, signature\n",
    "import unittest\n",
    "from unittest import TestCase, mock\n",
    "__ = TestCase() # simple test case\n",
    "\n",
    "# Sanity Check\n",
    "__.assertTrue('recursive_sum' in locals(), msg='You must name the function `recursive_sum`.')\n",
    "__.assertTrue(isfunction(recursive_sum), msg='You must define the *function* `recursive_sum`.')\n",
    "\n",
    "# Function parameter check\n",
    "__.assertEqual(len(signature(recursive_sum).parameters), 1, msg=\"Your function must have exactly 1 parameter.\")\n",
    "__.assertIn('number', signature(recursive_sum).parameters, msg='The parameter of the function must have the name `number`')\n",
    "\n",
    "# Value Check\n",
    "__.assertEqual(2, recursive_sum(2), msg='Wrong result, recursive_sum(2) = 1')\n",
    "__.assertEqual(6, recursive_sum(4), msg='Wrong result, recursive_sum(4) = 6')\n",
    "__.assertEqual(30, recursive_sum(10), msg='Wrong result, recursive_sum(10) = 30')\n",
    "__.assertEqual(72, recursive_sum(16), msg='Wrong result, recursive_sum(16) = 72')\n",
    "\n",
    "print(\"\\033[34;2m Your function has the correct computation.  \\033[0m\")\n",
    "\n",
    "class RecursionTest(TestCase):\n",
    "    def __init__(self):\n",
    "        super().__init__()\n",
    "        self.counter = 0\n",
    "    def fct(self, f):\n",
    "        def w(*args, **kwargs):\n",
    "            self.counter += 1\n",
    "            return f(*args, **kwargs)\n",
    "        return w\n",
    "    \n",
    "    def test_recursion(self, val):\n",
    "        with mock.patch('__main__.recursive_sum', self.fct(recursive_sum)):\n",
    "            result = recursive_sum(val)\n",
    "            #self.assertEqual(sum(range(val+1)), result, msg=f'Wrong result for number={val}')\n",
    "            self.assertGreater(self.counter, 1, msg=f'You did not use recursion, your function was called {self.counter} times. It should have been {val} times.')\n",
    "            if self.counter > val:\n",
    "                print(\"You used recursion but there is a possibility with fewer calls\")\n",
    "\n",
    "RecursionTest().test_recursion(4)\n",
    "RecursionTest().test_recursion(10)\n",
    "\n",
    "print(\"\\n\\033[37;42;2m  Success! Your code works as intended.  \\033[0m\\n\")"
   ]
  },
  {
   "cell_type": "markdown",
   "metadata": {},
   "source": [
    "---\n",
    "# Task 2: Fibonacci Numbers\n",
    "Implement the function `fibonacci(n)` that computes $F_n$, the $n$-th _Fibonacci_ number, and returns it. You can assume that `n` will always be greater than or equal to `0`.\n",
    "\n",
    "The _Fibonacci_ Numbers $F$ are a sequence of numbers defined as:\n",
    "- $ F_0 = 0 $\n",
    "- $ F_1 = 1 $\n",
    "- $ F_n = F_{n-2} + F_{n-1} $\n",
    "\n",
    "Meaning, every Fibonacci number is the sum of the *two* preceding numbers (except the $0^{th}$ and $1^{st}$ which are defined as $0$ and $1$. You can read more them on [Wikipedia](https://en.wikipedia.org/wiki/Fibonacci_number).\n",
    "\n",
    "Example: \n",
    "- $F_3 = F_1 + F_2 = 1 + F_0 + F_1 = 1 + 0 + 1 = 2$\n",
    "- $F_5 = F_3 + F_4 = F_1 + F_2 + F_2 + F_3 = … = 5 $\n",
    "\n",
    "_Hint: The two defined values for $F_0$ and $F_1$ are the stop condition._"
   ]
  },
  {
   "cell_type": "code",
   "execution_count": null,
   "metadata": {},
   "outputs": [],
   "source": [
    "# Add your code here\n",
    "\n"
   ]
  },
  {
   "cell_type": "code",
   "execution_count": null,
   "metadata": {},
   "outputs": [],
   "source": [
    "# Test Cell. Do not modify\n",
    "from inspect import isfunction, signature\n",
    "from unittest import TestCase\n",
    "__ = TestCase() # simple test case\n",
    "\n",
    "# Sanity Check\n",
    "__.assertTrue('fibonacci' in locals(), msg='You must name the function `fibonacci`.')\n",
    "__.assertTrue(isfunction(fibonacci), msg='You must define the *function* `fibonacci`.')\n",
    "\n",
    "# Function parameter check\n",
    "__.assertEqual(len(signature(fibonacci).parameters), 1, msg=\"Your function must have exactly 1 parameter.\")\n",
    "__.assertIn('n', signature(fibonacci).parameters, msg='The parameter of the function must have the name `n`')\n",
    "\n",
    "# Stop Condition Check\n",
    "__.assertEqual(0, fibonacci(0), msg='Wrong result, fibonacci(0) = 0. This is one of your stop condition!')\n",
    "__.assertEqual(1, fibonacci(1), msg='Wrong result, fibonacci(1) = 1. This is one of your stop condition!')\n",
    "\n",
    "# Value Check\n",
    "__.assertEqual(5, fibonacci(5), msg='Wrong result, fibonacci(5) = 5')\n",
    "__.assertEqual(55, fibonacci(10), msg='Wrong result, fibonacci(10) = 55')\n",
    "__.assertEqual(75025, fibonacci(25), msg='Wrong result, fibonacci(25) = 75025')\n",
    "\n",
    "print(\"\\n\\033[37;42;2m  Success! Your code works as intended.  \\033[0m\\n\")"
   ]
  },
  {
   "cell_type": "markdown",
   "metadata": {},
   "source": [
    "---\n",
    "# Task 3: `map` sorting\n",
    "\n",
    "Define the function `sort_numbers_by_digit` with one required parameter `number`. It should interpret the given integer (`number`) as _string_ and sort the individual digits in **descending** order.\n",
    "\n",
    "For example:\n",
    "```python\n",
    "sort_numbers_by_digit(42)\n",
    ">>> \"42\"\n",
    "sort_numbers_by_digit(613)\n",
    ">>> \"631\"\n",
    "```\n",
    "\n",
    "Then, create a _list_ with the name `sorted_list` that stores the result of your function for the given parameters in `to_sort`.\n",
    "\n",
    "Use the `map()` functionality to apply your function to each element.\n",
    "\n",
    "_Hint: It can be done in a `lambda` function, however, it may be easier to define a custom function `sort_numbers_by_digits(number)` and use this in the `map` expression._\n",
    "\n",
    "_Hint: Instead of concatenating strings, there is the [.join](https://docs.python.org/3/library/stdtypes.html#str.join) function which takes an iterable as an input. Experiment with it!_\n",
    "\n",
    "\n",
    "> As another hint, write down the logic and sequence of code statements in _pseudo code_. Don't worry about the correct syntax.\n",
    ">\n",
    "> Example for this task:\n",
    "> ```\n",
    "> def sort_numbers_by_digit(number):\n",
    ">    number_as_string = convert number to string\n",
    ">    sorted_number_as_string = sort number_as_string in descending order\n",
    ">    return sorted_number_as_string\n",
    "> ```\n",
    ">\n",
    "> Then, convert this pseudo code into Python. Keep in mind, depending on the sorting method, you'll probably **not** end up with a string right away.\n",
    "> Check the types of your variables, use `print` to get the actual values."
   ]
  },
  {
   "cell_type": "code",
   "execution_count": null,
   "metadata": {},
   "outputs": [],
   "source": [
    "to_sort = [1, 10, 23, 33, 42, 100, 48279]\n",
    "# Add your code here\n",
    "\n",
    "def sort_numbers_by_digit(number)\n",
    "    str(number)\n",
    "    for digit in number:\n",
    "        sor"
   ]
  },
  {
   "cell_type": "code",
   "execution_count": null,
   "metadata": {},
   "outputs": [],
   "source": [
    "# Test Cell. Do not modify\n",
    "from unittest import TestCase\n",
    "__ = TestCase()\n",
    "\n",
    "# Sanity Check\n",
    "__.assertTrue('sorted_list' in locals(), msg='You must name the resulting list `sorted_list`.')\n",
    "\n",
    "# Type tests\n",
    "__.assertIsInstance(sorted_list, list, msg='`result_t5` must be of instance `list`')\n",
    "\n",
    "# Stop Condition Check\n",
    "__.assertEqual(['1', '10', '32', '33', '42', '100', '98742'], sorted_list, msg=\"Your list differs\")\n",
    "\n",
    "print(\"\\n\\033[37;42;2m  Success! Your code works as intended.  \\033[0m\\n\")"
   ]
  },
  {
   "cell_type": "markdown",
   "metadata": {},
   "source": [
    "---\n",
    "# Task 4: Group Creation (ADVANCED)\n",
    "\n",
    "> **<p style=\"background:rgba(255, 232, 47, 0.4)\">This is an advanced task. It will not be required of you to solve it for the next quiz.<p>**\n",
    ">\n",
    "> You can come back to this task when you feel more comfortable with functions, lists, and the logic of programming.\n",
    "\n",
    "\n",
    "Image you want to assign a list of students to a variable number of groups. For this, you implement the function `group_students` that receives one required parameter `students` (a list of strings) and one optional parameter `groups` with the default integer value `2`.\n",
    "\n",
    "This function must return a *list* of `groups` number of lists (when `groups=2`, it must be `2` groups) of equal length. If there are not enough students, the missing slots must be filled with `\"__EMPTY__\"`.\n",
    "\n",
    "Example:\n",
    "```python\n",
    "print(group_students(\n",
    "    ['Alice', 'Bob', 'Caesar', 'Dino', 'Emil', 'Felix', 'G-Man', 'Hiro'],\n",
    "    groups=2\n",
    ")\n",
    ">>> [['Alice', 'Bob', 'Caesar', 'Dino'], ['Emil', 'Felix', 'G-Man', 'Hiro']]\n",
    "```\n",
    "We ask 8 students to be split, and we expect the returned list to have 2 groups with 4 students each.\n",
    "\n",
    "When we want 3 groups there are not enough students, so we fill the remaining ones with the string `__EMPTY__`.\n",
    "```python\n",
    "print(group_students(\n",
    "    ['Alice', 'Bob', 'Caesar', 'Dino', 'Emil', 'Felix', 'G-Man', 'Hiro'],\n",
    "    groups=3\n",
    ")\n",
    ">>> [['Alice', 'Bob', 'Caesar'], ['Dino', 'Emil', 'Felix'], ['G-Man', 'Hiro', '__EMPTY__']]\n",
    "```\n",
    "\n",
    "_Hint: How can you check if you have enough students or if there are empty slots? How can you compute the number of students per group? The basic arithmetic operators might be of help._\n",
    "\n",
    "_Hint: Create the individual groups first and how many students (each group must have an an equal number of slots) and then fill them with the available students._\n",
    "\n",
    "_Hint: The `range()` function might be useful with a calculated step value._\n",
    "\n",
    "\n",
    "> Try first to outline the algorithm/logic on paper. What should happen one step at a time?\n",
    "> How would you solve it without programming? Use pen and paper and come up with a solution how to distribute students among a group.\n",
    "> Start with a fixed number of groups first:\n",
    "> * Distribute 8 students into 2 groups\n",
    "> * Distribute 7 students into 2 groups (Think about how many slots you need first!)\n",
    "> Afterwards, write _pseudo code_ and don't try to code it in Python already. Don't worry about syntax, follow the logic: What should happen one line at a time.\n",
    ">\n",
    "> Only, then, you can think about converting your pseudo code into actual code."
   ]
  },
  {
   "cell_type": "code",
   "execution_count": null,
   "metadata": {},
   "outputs": [],
   "source": [
    "# Add your code here\n",
    "\n"
   ]
  },
  {
   "cell_type": "code",
   "execution_count": null,
   "metadata": {},
   "outputs": [],
   "source": [
    "# Test Cell. Do not modify\n",
    "from inspect import isfunction, signature, _empty\n",
    "from unittest import TestCase\n",
    "__ = TestCase()\n",
    "\n",
    "# Sanity Check\n",
    "__.assertTrue('group_students' in locals(), msg='You must name the function `group_students`.')\n",
    "__.assertTrue(isfunction(group_students), msg='You must define the function `group_students`.')\n",
    "\n",
    "# Parameter Check\n",
    "__.assertEqual(len(signature(group_students).parameters), 2, msg=\"Your function must have exactly 2 parameters.\")\n",
    "__.assertEqual(['students', 'groups'], list(signature(group_students).parameters), msg=\"The parameters of the function must have the names 'students' and 'groups'.\")\n",
    "__.assertEqual(_empty, signature(group_students).parameters['students'].default, msg=\"The parameter 'students' must not have a default value.'\")\n",
    "__.assertEqual(2, signature(group_students).parameters['groups'].default, msg=\"The 'group' parameter must have the default value 2.\")\n",
    "\n",
    "# Result Check\n",
    "__.assertEqual(\n",
    "    [['Alice', 'Bob', 'Caesar', 'Dino'], ['Emil', 'Felix', 'G-Man', 'Hiro']],\n",
    "    group_students(['Alice', 'Bob', 'Caesar', 'Dino', 'Emil', 'Felix', 'G-Man', 'Hiro'], 2), msg='Another result is expected.')\n",
    "__.assertEqual(\n",
    "    [['Alice', 'Bob', 'Caesar'], ['Dino', 'Emil', 'Felix'], ['G-Man', 'Hiro', '__EMPTY__']],\n",
    "    group_students(['Alice', 'Bob', 'Caesar', 'Dino', 'Emil', 'Felix', 'G-Man', 'Hiro'], 3), msg='Another result is expected.')\n",
    "__.assertEqual(\n",
    "    [['Alice', 'Bob'], ['Caesar', 'Dino'], ['Emil', 'Felix'], ['G-Man', 'Hiro']],\n",
    "    group_students(['Alice', 'Bob', 'Caesar', 'Dino', 'Emil', 'Felix', 'G-Man', 'Hiro'], 4), msg='Another result is expected.')\n",
    "__.assertEqual(\n",
    "    [['Alice', 'Bob'], ['Caesar', 'Dino'], ['Emil', 'Felix'], ['G-Man', 'Hiro'], ['__EMPTY__', '__EMPTY__']],\n",
    "    group_students(['Alice', 'Bob', 'Caesar', 'Dino', 'Emil', 'Felix', 'G-Man', 'Hiro'], 5), msg='Another result is expected.')\n",
    "__.assertEqual(\n",
    "    [['Alice', 'Bob'], ['Caesar', 'Dino'], ['Emil', 'Felix'], ['G-Man', 'Hiro'], ['__EMPTY__', '__EMPTY__'], ['__EMPTY__', '__EMPTY__']],\n",
    "    group_students(['Alice', 'Bob', 'Caesar', 'Dino', 'Emil', 'Felix', 'G-Man', 'Hiro'], 6), msg='Another result is expected.')\n",
    "__.assertEqual(\n",
    "    [['Alice', 'Bob'], ['Caesar', 'Dino'], ['Emil', 'Felix'], ['G-Man', 'Hiro'], ['__EMPTY__', '__EMPTY__'], ['__EMPTY__', '__EMPTY__'], ['__EMPTY__', '__EMPTY__']],\n",
    "    group_students(['Alice', 'Bob', 'Caesar', 'Dino', 'Emil', 'Felix', 'G-Man', 'Hiro'], 7), msg='Another result is expected.')\n",
    "__.assertEqual(\n",
    "    [['Alice'], ['Bob'], ['Caesar'], [ 'Dino'], ['Emil'], [ 'Felix'], ['G-Man'], ['Hiro']],\n",
    "    group_students(['Alice', 'Bob', 'Caesar', 'Dino', 'Emil', 'Felix', 'G-Man', 'Hiro'], 8), msg='Another result is expected.')\n",
    "__.assertEqual(\n",
    "    [['Alice'], ['Bob'], ['Caesar'], [ 'Dino'], ['Emil'], [ 'Felix'], ['G-Man'], ['Hiro'], ['__EMPTY__']],\n",
    "    group_students(['Alice', 'Bob', 'Caesar', 'Dino', 'Emil', 'Felix', 'G-Man', 'Hiro'], 9), msg='Another result is expected.')\n",
    "\n",
    "print(\"\\n\\033[37;42;2m  Success! Your code works as intended.  \\033[0m\\n\")"
   ]
  },
  {
   "cell_type": "markdown",
   "metadata": {},
   "source": [
    "# Task 5: streamlit (installation and first steps)\n",
    "\n",
    "**<p style=\"background:rgba(255, 232, 47, 0.4)\">This task has no code cells/test cells. Instead, you may implement this task in your _streamlit_ environment.<p>**\n",
    "\n",
    "* **First**, you will need a _text editor_ and access to your _terminal/command line_ with access to your Python installation\n",
    "\n",
    "    > **On a _Mac_**\n",
    "    > - **Terminal/comman line:** You can simply use your terminal application \n",
    "    > - **Editor:** Use a text editor of your choice, for our demos here I use [Sublime Text](https://www.sublimetext.com/)\n",
    "\n",
    "    > **On a _Windows PC_**\n",
    "    > - **Terminal/comman line:** Start your command line _cmd.exe_ **from ANACONDA Navigator**  (not the regular `cmd.exe` since this one may not have the paths to your Python installation)\n",
    "    > - **Editor:** Use a text editor of your choice, a simple but good one may be [Notepad++]((https://notepad-plus-plus.org/))\n",
    "    \n",
    "* **Second**, please install `streamlit` onto your local machine. We assume you already have a working Anaconda installation. How to do that and how to get started, you look(ed) at in the exercise group on Friday. You'll also find the documentation [here](https://docs.streamlit.io/library/get-started/installation).\n",
    "\n",
    "    >  Quick (and dirty) way to **install `streamlit`** on the command line\n",
    "    > ```console\n",
    "    > pip install streamlit\n",
    "    > ```\n",
    "    \n",
    "* **Third**, make sure, you are able to run the streamlit `hello world` app. Here your web browser should open and you should see the streamlit app.\n",
    "    > ```console\n",
    "    > streamlit hello\n",
    "    > ```\n",
    "    \n",
    "* **Fourth**, make sure, you can run for example a streamlit app from the lecture or exercise groups on your computer. Here it is _really_ important that you know _where_ the `.py`file is on your computer, i.e., you need to know the path to this file or navigate to this directory on your computer on the command line. If you have never done that before, there are simple guides, e.g., for [Windows](https://www.lifewire.com/change-directories-in-command-prompt-5185508#toc-how-do-i-change-directories-in-command-prompt) or [Mac](https://www.macworld.com/article/221277/command-line-navigating-files-folders-mac-terminal.html). Then run\n",
    "    > ```console\n",
    "    > streamlit run <path_to_file>/streamlit_demo.py\n",
    "    > ```\n",
    "    \n",
    "* **Fifth**, make a copy of the `.py`file that you have just run, open it in your text editor and remove the \"business logic\" in there. Now you may implement functionality from this assignement, for example from _Task 2_ into your streamlit app. Explore some of the streamlit functionality you find interesting/appropriate for your app. Some reference on the basic functionality of streamlit can be found [here](https://docs.streamlit.io/library/api-reference) or in a rather comprehensive way in the [Cheat Sheet here](https://docs.streamlit.io/library/cheatsheet). "
   ]
  },
  {
   "cell_type": "code",
   "execution_count": null,
   "metadata": {},
   "outputs": [],
   "source": []
  }
 ],
 "metadata": {
  "colab": {
   "collapsed_sections": [],
   "name": "Assignment_02_Solution.ipynb",
   "provenance": []
  },
  "copyright": {
   "author": "Bernhard Bermeitinger",
   "email": "bernhard.bermeitinger@unisg.ch"
  },
  "kernelspec": {
   "display_name": "Python 3 (ipykernel)",
   "language": "python",
   "name": "python3"
  },
  "language_info": {
   "codemirror_mode": {
    "name": "ipython",
    "version": 3
   },
   "file_extension": ".py",
   "mimetype": "text/x-python",
   "name": "python",
   "nbconvert_exporter": "python",
   "pygments_lexer": "ipython3",
   "version": "3.11.6"
  },
  "toc-autonumbering": false,
  "toc-showcode": false,
  "vscode": {
   "interpreter": {
    "hash": "308bf71e532693dd7977217f267894072a5c196c2c65186b0c51db5bdbf327c1"
   }
  }
 },
 "nbformat": 4,
 "nbformat_minor": 4
}
